{
 "cells": [
  {
   "cell_type": "markdown",
   "metadata": {},
   "source": [
    "# Assignment 4"
   ]
  },
  {
   "cell_type": "markdown",
   "metadata": {},
   "source": [
    "1.1. Write a Python Program(with class concepts) to find the area of the triangle using the below\n",
    "formula.\n",
    "area = (s*(s-a)*(s-b)*(s-c)) ** 0.5\n",
    "Function to take the length of the sides of triangle from user should be defined in the parent\n",
    "class and function to calculate the area should be defined in subclass."
   ]
  },
  {
   "cell_type": "code",
   "execution_count": 1,
   "metadata": {},
   "outputs": [],
   "source": [
    "class InputTriangleSide:\n",
    "    '''\n",
    "    Class to ask user to provide input for length of sides of triangle\n",
    "    \n",
    "    ===================================================================\n",
    "    \n",
    "    Atributes:\n",
    "    -------------\n",
    "            a : float\n",
    "                First Side input by user\n",
    "            b : float\n",
    "                Second Side input by user\n",
    "            c : float\n",
    "                Thord Side input by user\n",
    "    '''\n",
    "    def __init__(self):\n",
    "        self.a = float(input(\"Input length of first side of Triangle: \"))\n",
    "        self.b = float(input(\"Input length of first side of Triangle: \")) \n",
    "        self.c = float(input(\"Input length of first side of Triangle: \"))"
   ]
  },
  {
   "cell_type": "code",
   "execution_count": 2,
   "metadata": {},
   "outputs": [],
   "source": [
    "class AreaOfTriangle(InputTriangleSide):\n",
    "    '''\n",
    "    Class to claculate Area Of Triangle\n",
    "    ========================================\n",
    "    \n",
    "    Methods: \n",
    "    ----------\n",
    "        get_semiperimeter(): Calculate Semi-Perimeter of Triangle\n",
    "        get_area(): Calculate Area OF Triangle\n",
    "    '''\n",
    "    def __init__(self):\n",
    "        InputTriangleSide.__init__(self)\n",
    "        \n",
    "    def get_semiperimeter(self)-> float:\n",
    "        '''\n",
    "        return semi-perimeter of triangle\n",
    "        '''\n",
    "        return float((self.a) + (self.b) + (self.c))/2\n",
    "    \n",
    "    def get_area(self):\n",
    "        '''\n",
    "        claculate Area of triangle\n",
    "        '''\n",
    "        self.s=self.get_semiperimeter()\n",
    "        self.area = (self.s*(self.s-self.a)*(self.s-self.b)*(self.s-self.c)) ** 0.5\n",
    "        \n",
    "    def __str__(self):\n",
    "        return 'Area of trangle is: %0.2f' %self.area"
   ]
  },
  {
   "cell_type": "code",
   "execution_count": 3,
   "metadata": {},
   "outputs": [
    {
     "name": "stdout",
     "output_type": "stream",
     "text": [
      "Input length of first side of Triangle: 5\n",
      "Input length of first side of Triangle: 6\n",
      "Input length of first side of Triangle: 7\n",
      "Area of trangle is: 14.70\n"
     ]
    }
   ],
   "source": [
    "area_triangle = AreaOfTriangle()\n",
    "area_triangle.get_area()\n",
    "print (area_triangle)"
   ]
  },
  {
   "cell_type": "markdown",
   "metadata": {},
   "source": [
    "1.2. Write a function filter_long_words() that takes a list of words and an integer n and returns\n",
    "the list of words that are longer than n."
   ]
  },
  {
   "cell_type": "code",
   "execution_count": 4,
   "metadata": {},
   "outputs": [],
   "source": [
    "def filter_long_words(lst_words: list,num: int)-> 'list of words':\n",
    "    '''\n",
    "    lst_words: list of words, num: integer\n",
    "    \n",
    "    return: list of words that are longer than num\n",
    "    '''\n",
    "    return [i for i in lst_words if len(i)>num]"
   ]
  },
  {
   "cell_type": "code",
   "execution_count": 5,
   "metadata": {},
   "outputs": [
    {
     "data": {
      "text/plain": [
       "['Artificial', 'Intelligence', 'learning', 'Computer']"
      ]
     },
     "execution_count": 5,
     "metadata": {},
     "output_type": "execute_result"
    }
   ],
   "source": [
    "filter_long_words(['Artificial','Intelligence','Machine','Deep','learning','Data','Science','Computer','Vision'],7)"
   ]
  },
  {
   "cell_type": "markdown",
   "metadata": {},
   "source": [
    "2.1. Write a Python program using function concept that maps list of words into a list of integers\n",
    "representing the lengths of the corresponding words.\n",
    "Hint: If a list [ ab,cde,erty] is passed on to the python function output should come as [2,3,4]\n",
    "Here 2,3 and 4 are the lengths of the words in the list."
   ]
  },
  {
   "cell_type": "code",
   "execution_count": 6,
   "metadata": {},
   "outputs": [],
   "source": [
    "## Solution 1 Using Function Concept\n",
    "def map_word_length(lst_words: list)->'List Of Word Length':\n",
    "    '''\n",
    "    lst_words: list of words\n",
    "    \n",
    "    return: list of integers representing the length of \n",
    "    corrsponding word in the list\n",
    "    '''\n",
    "    return [len(i) for i in lst_words]"
   ]
  },
  {
   "cell_type": "code",
   "execution_count": 7,
   "metadata": {},
   "outputs": [
    {
     "data": {
      "text/plain": [
       "[10, 12, 7, 4, 8, 4, 7, 8, 6]"
      ]
     },
     "execution_count": 7,
     "metadata": {},
     "output_type": "execute_result"
    }
   ],
   "source": [
    "map_word_length(['Artificial','Intelligence','Machine','Deep','learning','Data','Science','Computer','Vision'])"
   ]
  },
  {
   "cell_type": "code",
   "execution_count": 8,
   "metadata": {},
   "outputs": [
    {
     "data": {
      "text/plain": [
       "[10, 12, 7, 4, 8, 4, 7, 8, 6]"
      ]
     },
     "execution_count": 8,
     "metadata": {},
     "output_type": "execute_result"
    }
   ],
   "source": [
    "## Solution 2 Using in-built Map Function Directly\n",
    "lst=['Artificial','Intelligence','Machine','Deep','learning','Data','Science','Computer','Vision']\n",
    "list(map(lambda x:len(x),lst))"
   ]
  },
  {
   "cell_type": "markdown",
   "metadata": {},
   "source": [
    "2.2. Write a Python function which takes a character (i.e. a string of length 1) and returns True if\n",
    "it is a vowel, False otherwise."
   ]
  },
  {
   "cell_type": "code",
   "execution_count": 9,
   "metadata": {},
   "outputs": [],
   "source": [
    "## Solution 1\n",
    "def isVowel(character: str)-> bool:\n",
    "    '''\n",
    "    character: a single letter of any case\n",
    "\n",
    "    returns: True if char is a vowel and False otherwise.\n",
    "    '''\n",
    "    vowels=['a','e','i','o','u']\n",
    "    for i in vowels:\n",
    "        if i == character.lower():\n",
    "            return True\n",
    "    else: \n",
    "        return False"
   ]
  },
  {
   "cell_type": "code",
   "execution_count": 10,
   "metadata": {},
   "outputs": [
    {
     "name": "stdout",
     "output_type": "stream",
     "text": [
      "True\n",
      "False\n"
     ]
    }
   ],
   "source": [
    "print(isVowel('A'))\n",
    "print(isVowel('b'))"
   ]
  },
  {
   "cell_type": "code",
   "execution_count": 11,
   "metadata": {},
   "outputs": [],
   "source": [
    "## Solution 2\n",
    "def is_Vowel(character: str)->bool:\n",
    "    '''\n",
    "    character: a single letter of any case\n",
    "\n",
    "    returns: True if char is a vowel and False otherwise.\n",
    "    '''\n",
    "    vowels = ('a', 'e', 'i', 'o', 'u')\n",
    "    if character.lower() not in vowels:\n",
    "        return False\n",
    "    return True"
   ]
  },
  {
   "cell_type": "code",
   "execution_count": 12,
   "metadata": {},
   "outputs": [
    {
     "name": "stdout",
     "output_type": "stream",
     "text": [
      "True\n",
      "False\n"
     ]
    }
   ],
   "source": [
    "print(is_Vowel('A'))\n",
    "print(is_Vowel('b'))"
   ]
  },
  {
   "cell_type": "code",
   "execution_count": 13,
   "metadata": {},
   "outputs": [],
   "source": [
    "## Solution 3\n",
    "def is_vowel(character: str)->bool:\n",
    "    '''\n",
    "    character: a single letter of any case\n",
    "\n",
    "    returns: True if char is a vowel and False otherwise.\n",
    "    '''\n",
    "    vowels = 'aeiou'\n",
    "    return character.lower() in vowels"
   ]
  },
  {
   "cell_type": "code",
   "execution_count": 14,
   "metadata": {},
   "outputs": [
    {
     "name": "stdout",
     "output_type": "stream",
     "text": [
      "True\n",
      "False\n"
     ]
    }
   ],
   "source": [
    "print(is_vowel('A'))\n",
    "print(is_vowel('b'))"
   ]
  },
  {
   "cell_type": "code",
   "execution_count": null,
   "metadata": {},
   "outputs": [],
   "source": []
  }
 ],
 "metadata": {
  "kernelspec": {
   "display_name": "Python 3",
   "language": "python",
   "name": "python3"
  },
  "language_info": {
   "codemirror_mode": {
    "name": "ipython",
    "version": 3
   },
   "file_extension": ".py",
   "mimetype": "text/x-python",
   "name": "python",
   "nbconvert_exporter": "python",
   "pygments_lexer": "ipython3",
   "version": "3.7.7"
  }
 },
 "nbformat": 4,
 "nbformat_minor": 4
}
