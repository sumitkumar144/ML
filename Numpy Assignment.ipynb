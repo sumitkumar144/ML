{
 "cells": [
  {
   "cell_type": "markdown",
   "metadata": {},
   "source": [
    "# Assignment Numpy"
   ]
  },
  {
   "cell_type": "markdown",
   "metadata": {},
   "source": [
    "1. Write a function so that the columns of the output matrix are powers of the input\n",
    "vector.\n",
    "The order of the powers is determined by the increasing boolean argument. Specifically, when\n",
    "increasing is False, the i-th output column is the input vector raised element-wise to the power\n",
    "of N - i - 1.\n",
    "\n",
    "HINT: Such a matrix with a geometric progression in each row is named for Alexandre-\n",
    "Theophile Vandermonde."
   ]
  },
  {
   "cell_type": "code",
   "execution_count": 1,
   "metadata": {},
   "outputs": [],
   "source": [
    "import numpy as np"
   ]
  },
  {
   "cell_type": "code",
   "execution_count": 2,
   "metadata": {},
   "outputs": [],
   "source": [
    "def gen_Vandermond_matrix(input_vector: 'ndarray', no_col: int, increasing: bool) -> 'ndarray':\n",
    "    '''\n",
    "    Columns of the output matrix are powers of the input vector.\n",
    "    \n",
    "    Parameters:\n",
    "    -------------------\n",
    "    input_vector: input vector in the form of ndarray\n",
    "    no_col: Number of columns in output matrix\n",
    "    increasing: bool type parameter to control the order of order of powers\n",
    "    \n",
    "    Returns:\n",
    "    -------------------\n",
    "    Returns an ndarray with columns  are powers of the input vector\n",
    "    '''\n",
    "    if(increasing == True):\n",
    "        output_matrix = np.array([x**i for x in input_vector for i in range(no_col)]).reshape(input_vector.size,no_col)\n",
    "    else:\n",
    "        output_matrix = np.array([x**(no_col-i-1) for x in input_vector for i in range(no_col)]).reshape(input_vector.size,no_col)\n",
    "    \n",
    "    return output_matrix"
   ]
  },
  {
   "cell_type": "markdown",
   "metadata": {},
   "source": [
    "### Output:"
   ]
  },
  {
   "cell_type": "code",
   "execution_count": 3,
   "metadata": {},
   "outputs": [
    {
     "name": "stdout",
     "output_type": "stream",
     "text": [
      "Input Vector Is: \n",
      " [2 3 5 6 7]\n",
      "\n",
      "Number Of Columns in output matrix:  5\n",
      "\n",
      "Vandermond matrix in  increasing order of power: \n",
      "\n",
      " [[   1    2    4    8   16]\n",
      " [   1    3    9   27   81]\n",
      " [   1    5   25  125  625]\n",
      " [   1    6   36  216 1296]\n",
      " [   1    7   49  343 2401]]\n",
      "\n",
      "Vandermond matrix in  decreasing order of power: \n",
      "\n",
      " [[  16    8    4    2    1]\n",
      " [  81   27    9    3    1]\n",
      " [ 625  125   25    5    1]\n",
      " [1296  216   36    6    1]\n",
      " [2401  343   49    7    1]]\n"
     ]
    }
   ],
   "source": [
    "input_vector=np.array([2,3,5,6,7])\n",
    "no_col= 5\n",
    "output_matrix_inc_order = gen_Vandermond_matrix(input_vector, no_col, increasing=True)\n",
    "output_matrix_dec_order = gen_Vandermond_matrix(input_vector, no_col, increasing=False)\n",
    "print('Input Vector Is: \\n',input_vector)\n",
    "print('\\nNumber Of Columns in output matrix: ',no_col)\n",
    "print('\\nVandermond matrix in  increasing order of power: \\n\\n',output_matrix_inc_order)\n",
    "print('\\nVandermond matrix in  decreasing order of power: \\n\\n',output_matrix_dec_order)"
   ]
  },
  {
   "cell_type": "markdown",
   "metadata": {},
   "source": [
    "2. Problem Statement 2:\n",
    "Given a sequence of n values x1, x2, ..., xn and a window size k>0, the k-th moving average of\n",
    "the given sequence is defined as follows:\n",
    "The moving average sequence has n-k+1 elements as shown below.\n",
    "The moving averages with k=4 of a ten-value sequence (n=10) is shown below:\n",
    "\n",
    "i 1 2 3 4 5 6 7 8 9 10\n",
    "\n",
    "===== == == == == == == == == == ==\n",
    "\n",
    "Input 10 20 30 40 50 60 70 80 90 100\n",
    "y1 25 = (10+20+30+40)/4\n",
    "\n",
    "y2 35 = (20+30+40+50)/4\n",
    "\n",
    "y3 45 = (30+40+50+60)/4\n",
    "\n",
    "y4 55 = (40+50+60+70)/4\n",
    "\n",
    "y5 65 = (50+60+70+80)/4\n",
    "\n",
    "y6 75 = (60+70+80+90)/4\n",
    "\n",
    "y7 85 = (70+80+90+100)/4\n",
    "\n",
    "Thus, the moving average sequence has n-k+1=10-4+1=7 values.\n",
    "\n",
    "Question: Write a function to find moving average in an array over a window:\n",
    "Test it over [3, 5, 7, 2, 8, 10, 11, 65, 72, 81, 99, 100, 150] and window of 3."
   ]
  },
  {
   "cell_type": "markdown",
   "metadata": {},
   "source": [
    "#### Method1"
   ]
  },
  {
   "cell_type": "code",
   "execution_count": 4,
   "metadata": {},
   "outputs": [],
   "source": [
    "def moving_average(input_vector: 'ndarray', k: int)->'ndarray':\n",
    "    '''\n",
    "    Find Moving Average of an array over a window size\n",
    "    \n",
    "    Parameter:\n",
    "    ---------------------------\n",
    "    input_vector: input vector in the form of ndarray\n",
    "    k: Window_Size for which the average will be calculated\n",
    "    \n",
    "    Return\n",
    "    ---------------------------\n",
    "    Returns an ndarray for the moving average over a window size\n",
    "    \n",
    "    '''\n",
    "    cumulative_sum = np.cumsum(input_vector)\n",
    "    cumulative_sum[k:] = cumulative_sum[k:] - cumulative_sum[:-k]\n",
    "    moving_avg = cumulative_sum[k-1:]/k\n",
    "    return moving_avg"
   ]
  },
  {
   "cell_type": "markdown",
   "metadata": {},
   "source": [
    "### Output"
   ]
  },
  {
   "cell_type": "code",
   "execution_count": 5,
   "metadata": {},
   "outputs": [
    {
     "name": "stdout",
     "output_type": "stream",
     "text": [
      "Input Vector Is: \n",
      " [  3   5   7   2   8  10  11  65  72  81  99 100 150]\n",
      "\n",
      "Window_Size for which the average will be calculated:  3\n",
      "\n",
      "Array of size 11 with moving average calculation is \n",
      "\n",
      " [  5.           4.66666667   5.66666667   6.66666667   9.66666667\n",
      "  28.66666667  49.33333333  72.66666667  84.          93.33333333\n",
      " 116.33333333] \n"
     ]
    }
   ],
   "source": [
    "input_vector = np.array([3, 5, 7, 2, 8, 10, 11, 65, 72, 81, 99, 100, 150])\n",
    "window_size=3\n",
    "moving_average_array = moving_average(input_vector,window_size )\n",
    "print('Input Vector Is: \\n',input_vector)\n",
    "print('\\nWindow_Size for which the average will be calculated: ',window_size)\n",
    "print('\\nArray of size {0} with moving average calculation is \\n\\n {1} '.format((input_vector.size-window_size+1),moving_average_array))"
   ]
  },
  {
   "cell_type": "markdown",
   "metadata": {},
   "source": [
    "#### Method2"
   ]
  },
  {
   "cell_type": "code",
   "execution_count": 6,
   "metadata": {},
   "outputs": [],
   "source": [
    "def moving_average(input_vector: 'ndarray', k: int)->'ndarray':\n",
    "    '''\n",
    "    Find Moving Average of an array over a window size\n",
    "    \n",
    "    Parameter:\n",
    "    ---------------------------\n",
    "    input_vector: input vector in the form of ndarray\n",
    "    k: Window_Size for which the average will be calculated\n",
    "    \n",
    "    Return\n",
    "    ---------------------------\n",
    "    Returns an ndarray for the moving average over a window size\n",
    "    \n",
    "    '''\n",
    "    moving_avg = np.array([sum(input_vector[i:i+3])/window_size for i in range(input_vector.size-window_size+1)])\n",
    "    return moving_avg"
   ]
  },
  {
   "cell_type": "markdown",
   "metadata": {},
   "source": [
    "### Output:"
   ]
  },
  {
   "cell_type": "code",
   "execution_count": 7,
   "metadata": {},
   "outputs": [
    {
     "name": "stdout",
     "output_type": "stream",
     "text": [
      "Input Vector Is: \n",
      " [  3   5   7   2   8  10  11  65  72  81  99 100 150]\n",
      "\n",
      "Window_Size for which the average will be calculated:  3\n",
      "\n",
      "Array of size 11 with moving average calculation is \n",
      "\n",
      " [  5.           4.66666667   5.66666667   6.66666667   9.66666667\n",
      "  28.66666667  49.33333333  72.66666667  84.          93.33333333\n",
      " 116.33333333] \n"
     ]
    }
   ],
   "source": [
    "input_vector = np.array([3, 5, 7, 2, 8, 10, 11, 65, 72, 81, 99, 100, 150])\n",
    "window_size=3\n",
    "moving_average_array = moving_average(input_vector,window_size )\n",
    "print('Input Vector Is: \\n',input_vector)\n",
    "print('\\nWindow_Size for which the average will be calculated: ',window_size)\n",
    "print('\\nArray of size {0} with moving average calculation is \\n\\n {1} '.format((input_vector.size-window_size+1),moving_average_array))"
   ]
  }
 ],
 "metadata": {
  "kernelspec": {
   "display_name": "Python 3",
   "language": "python",
   "name": "python3"
  },
  "language_info": {
   "codemirror_mode": {
    "name": "ipython",
    "version": 3
   },
   "file_extension": ".py",
   "mimetype": "text/x-python",
   "name": "python",
   "nbconvert_exporter": "python",
   "pygments_lexer": "ipython3",
   "version": "3.7.7"
  }
 },
 "nbformat": 4,
 "nbformat_minor": 4
}
